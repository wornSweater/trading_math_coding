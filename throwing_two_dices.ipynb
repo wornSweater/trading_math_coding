{
 "cells": [
  {
   "cell_type": "code",
   "execution_count": 46,
   "id": "0ae96129-7ad6-4dad-a9d9-2b3ef4bba11f",
   "metadata": {},
   "outputs": [],
   "source": [
    "# Goldman Sachs\n",
    "# two fair 6-sided dice, rolled for the first time, record the rolled value, and then rolled for the second\n",
    "# what is the probability that the second is the same as the first"
   ]
  },
  {
   "cell_type": "code",
   "execution_count": 47,
   "id": "80567c2b-7e1e-4d96-a22c-717d99cce74b",
   "metadata": {},
   "outputs": [],
   "source": [
    "import random"
   ]
  },
  {
   "cell_type": "code",
   "execution_count": 57,
   "id": "d14ab5c6-a391-44af-bae9-073dfc86f25a",
   "metadata": {},
   "outputs": [],
   "source": [
    "# set all parameters\n",
    "\n",
    "random.seed = 42\n",
    "rounds = 100000\n",
    "\n",
    "# create two dice\n",
    "\n",
    "die_1 = [1,2,3,4,5,6]\n",
    "die_2 = [1,2,3,4,5,6]"
   ]
  },
  {
   "cell_type": "code",
   "execution_count": 49,
   "id": "d1f02bd4-0239-48f6-971d-ba77089d3048",
   "metadata": {},
   "outputs": [
    {
     "name": "stdout",
     "output_type": "stream",
     "text": [
      "0.027777777777777776\n",
      "monte carlo is 0.02757\n"
     ]
    }
   ],
   "source": [
    "# the simplest case is that the value should be strictly one-to-one corresponding\n",
    "count = 0\n",
    "\n",
    "for _ in range(rounds):\n",
    "    # start the game and record the first roll\n",
    "    first_results = []\n",
    "    random.shuffle(die_1)\n",
    "    random.shuffle(die_2)\n",
    "\n",
    "    first_results.append(die_1[0])\n",
    "    first_results.append(die_2[0])\n",
    "\n",
    "    # start the game again for the second\n",
    "    second_results = []\n",
    "    random.shuffle(die_1)\n",
    "    random.shuffle(die_2)\n",
    "\n",
    "    second_results.append(die_1[0])\n",
    "    second_results.append(die_2[0])\n",
    "\n",
    "    if first_results[0] == second_results[0] and first_results[1] == second_results[1]:\n",
    "        count += 1\n",
    "\n",
    "print(1/36)\n",
    "print(f\"monte carlo is {count / rounds}\")\n",
    "    "
   ]
  },
  {
   "cell_type": "code",
   "execution_count": 50,
   "id": "48965510-763c-451a-8d7f-7417c83aca20",
   "metadata": {},
   "outputs": [],
   "source": [
    "# monte carlo confirms: since two rolls are independent, the first sets as a result for the second to get"
   ]
  },
  {
   "cell_type": "code",
   "execution_count": 58,
   "id": "54aa060d-e613-441e-a7f5-378a0441c85f",
   "metadata": {},
   "outputs": [
    {
     "name": "stdout",
     "output_type": "stream",
     "text": [
      "monte carlo ignoring one to one correspondence 0.05075\n",
      "0.05555555555555555\n",
      "0.05092592592592592\n"
     ]
    }
   ],
   "source": [
    "# another case is that if we only look at the results instead of one to one correspondence\n",
    "count = 0\n",
    "\n",
    "for _ in range(rounds):\n",
    "    # start the game and record the first roll\n",
    "    first_roll = []\n",
    "    random.shuffle(die_1)\n",
    "    random.shuffle(die_2)\n",
    "\n",
    "    first_roll.append(die_1[0])\n",
    "    first_roll.append(die_2[0])\n",
    "\n",
    "    # convert the list to set for ignoring the one to one relationship\n",
    "    first_roll_set = set(first_roll)\n",
    "\n",
    "    # start the game again for the second \n",
    "    second_roll = []\n",
    "    random.shuffle(die_1)\n",
    "    random.shuffle(die_2)\n",
    "\n",
    "    second_roll.append(die_1[0])\n",
    "    second_roll.append(die_2[0])\n",
    "\n",
    "    # convert the list to set for ignoring hte one to one relationship\n",
    "    second_roll_set = set(second_roll)\n",
    "\n",
    "    # set the condition:\n",
    "    if first_roll_set == second_roll_set:\n",
    "        count += 1\n",
    "\n",
    "print(f'monte carlo ignoring one to one correspondence {count / rounds}')\n",
    "print(1/18)\n",
    "print(11/216)"
   ]
  },
  {
   "cell_type": "code",
   "execution_count": 55,
   "id": "e2cf7692-5577-4832-93cd-54efa82df150",
   "metadata": {},
   "outputs": [],
   "source": [
    "# Should not be 1/18 (1/36 * 2), since for same value for two dice there is only one outcome not symmetric"
   ]
  },
  {
   "cell_type": "code",
   "execution_count": null,
   "id": "b0b5a610-884b-474e-bbd3-d437e190515b",
   "metadata": {},
   "outputs": [],
   "source": [
    "# theoretically, use the law of conditional probability\n",
    "# P(second same) = summation(P(second same | first time) * P(first time))\n",
    "\n",
    "# if one to one\n",
    "# P(second same | first time) = 1/36 (independent)\n",
    "# P(first time) = 1/36\n",
    "# 1/36 * 1/36 * 36 (36 cases in total)\n",
    "\n",
    "# if not one to one\n",
    "# P(second same | first time) = 1/18 -> in total 30 cases\n",
    "# P(second same | first time) = 1/36 -> in total 6 cases\n",
    "# final is 1/18 * 1/36 * 30 + 1/36 * 1/36 * 6 = 11/216"
   ]
  },
  {
   "cell_type": "code",
   "execution_count": 59,
   "id": "fc36038d-9ba5-43f9-80fb-bbf17f3630b0",
   "metadata": {},
   "outputs": [],
   "source": [
    "# simplest method in head: 1/6 of same value, 1/36 second roll same; 5/6 of different value, 2/36 second roll same:\n",
    "# essentially equivalent to law of conditional probability\n",
    "# for the first roll 1/6 proportion is the same while 5/6 proportion is different, serve as weight, probability is also \"weight\""
   ]
  }
 ],
 "metadata": {
  "kernelspec": {
   "display_name": "Python 3 (ipykernel)",
   "language": "python",
   "name": "python3"
  },
  "language_info": {
   "codemirror_mode": {
    "name": "ipython",
    "version": 3
   },
   "file_extension": ".py",
   "mimetype": "text/x-python",
   "name": "python",
   "nbconvert_exporter": "python",
   "pygments_lexer": "ipython3",
   "version": "3.12.2"
  }
 },
 "nbformat": 4,
 "nbformat_minor": 5
}
