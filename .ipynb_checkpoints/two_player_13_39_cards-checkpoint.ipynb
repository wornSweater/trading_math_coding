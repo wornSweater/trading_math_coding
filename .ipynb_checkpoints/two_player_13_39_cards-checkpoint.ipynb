{
 "cells": [
  {
   "cell_type": "code",
   "execution_count": 3,
   "id": "646112a6-4d09-4e4a-800f-72668e86a7b8",
   "metadata": {},
   "outputs": [],
   "source": [
    "import random"
   ]
  },
  {
   "cell_type": "code",
   "execution_count": 4,
   "id": "1474ec30-c87b-493a-9d61-08ff19da3c0e",
   "metadata": {},
   "outputs": [],
   "source": [
    "# 52 cards, shuffled and randomly split into two decks, one is 13 and the other is 39\n",
    "# Two players, you and your friend, you choose the deck first\n",
    "# You two draw cards simultaneously and one by one, the first drawing Ace wins, which deck to choose?\n",
    "\n",
    "# There can be a tie\n",
    "# What if you can also choose to first draw card or later "
   ]
  },
  {
   "cell_type": "code",
   "execution_count": 5,
   "id": "ab364a33-eeb3-4121-91ff-53d83d8ca0fc",
   "metadata": {},
   "outputs": [],
   "source": [
    "# set the seed and set all parameters, create the deck\n",
    "num_aces = 4\n",
    "num_others = 52-4\n",
    "random.seed = 42\n",
    "\n",
    "deck_aces = [\"A\"] * num_aces\n",
    "deck_others = [\"K\"] * num_others\n",
    "\n",
    "deck_all = deck_aces + deck_others"
   ]
  },
  {
   "cell_type": "code",
   "execution_count": 6,
   "id": "504c28c5-4e57-4cb8-97a1-2614f62e9ab8",
   "metadata": {},
   "outputs": [
    {
     "name": "stdout",
     "output_type": "stream",
     "text": [
      "choose the small deck to win 0.45205\n",
      "choose the large deck to win 0.51232\n",
      "there is a tie between the two 0.03563\n",
      "1.0\n",
      "0.30586 0.00421\n"
     ]
    }
   ],
   "source": [
    "# use monte carlo to get the result\n",
    "small_win = 0\n",
    "large_win = 0\n",
    "tie = 0\n",
    "small_zero = 0\n",
    "large_zero = 0\n",
    "rounds = 100000\n",
    "\n",
    "for _ in range(rounds):\n",
    "    # shuffle the deck first\n",
    "    random.shuffle(deck_all)\n",
    "    \n",
    "    # get the first 13 cards\n",
    "    deck_small = ''.join(deck_all[:13])\n",
    "    deck_large = ''.join(deck_all[13:-1])\n",
    "    \n",
    "    # start to draw the card and check the winning condition\n",
    "    index_1 = deck_small.find(\"A\")\n",
    "    index_2 = deck_large.find(\"A\")\n",
    "    \n",
    "    if index_1 == -1:\n",
    "        large_win += 1\n",
    "        small_zero += 1\n",
    "    elif index_2 == -1:\n",
    "        small_win += 1\n",
    "        large_zero += 1\n",
    "    else:\n",
    "        if index_1 < index_2:\n",
    "            small_win += 1\n",
    "        if index_1 > index_2:\n",
    "            large_win += 1\n",
    "        if index_1 == index_2:\n",
    "            tie += 1\n",
    "            \n",
    "print(f\"choose the small deck to win {small_win / rounds}\")\n",
    "print(f\"choose the large deck to win {large_win / rounds}\")\n",
    "print(f\"there is a tie between the two {tie / rounds}\")\n",
    "print((small_win / rounds) + (large_win / rounds) + (tie / rounds))\n",
    "print(small_zero / rounds, large_zero / rounds)"
   ]
  },
  {
   "cell_type": "code",
   "execution_count": null,
   "id": "95bace82-d542-47e7-8081-074624ecd795",
   "metadata": {},
   "outputs": [],
   "source": [
    "# Since there is tie, if change the strategy to draw larger deck as well as drawing card first instead of simultaneously, bigger odd to win"
   ]
  },
  {
   "cell_type": "code",
   "execution_count": null,
   "id": "8de2c346-9a0d-4f2c-8a16-e0842501767e",
   "metadata": {},
   "outputs": [],
   "source": [
    "# 13 - 13 symmetric, same probability to win, while the other has 26 more, odds to have the A when 13-13 neither has Ace"
   ]
  }
 ],
 "metadata": {
  "kernelspec": {
   "display_name": "Python 3 (ipykernel)",
   "language": "python",
   "name": "python3"
  },
  "language_info": {
   "codemirror_mode": {
    "name": "ipython",
    "version": 3
   },
   "file_extension": ".py",
   "mimetype": "text/x-python",
   "name": "python",
   "nbconvert_exporter": "python",
   "pygments_lexer": "ipython3",
   "version": "3.12.2"
  }
 },
 "nbformat": 4,
 "nbformat_minor": 5
}
