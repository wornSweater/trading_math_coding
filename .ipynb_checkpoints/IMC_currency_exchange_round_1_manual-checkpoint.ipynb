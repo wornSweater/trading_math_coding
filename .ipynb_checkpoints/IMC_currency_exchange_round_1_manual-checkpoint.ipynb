{
 "cells": [
  {
   "cell_type": "code",
   "execution_count": 5,
   "id": "fbbddba3-cbd3-4df3-a6d8-fee637258e97",
   "metadata": {},
   "outputs": [],
   "source": [
    "exchange_rate = {\n",
    "    \"Snowballs\": {\"Snowballs\": 1, \"Pizzas\": 1.45, \"Silicon Nuggets\": 0.52, \"SeaShells\": 0.72},\n",
    "    \"Pizzas\": {\"Snowballs\": 0.7, \"Pizzas\": 1, \"Silicon Nuggets\": 0.31, \"SeaShells\": 0.48},\n",
    "    \"Silicon Nuggets\": {\"Snowballs\": 1.95, \"Pizzas\": 3.1, \"Silicon Nuggets\": 1, \"SeaShells\": 1.49},\n",
    "    \"SeaShells\": {\"Snowballs\": 1.34, \"Pizzas\": 1.98, \"Silicon Nuggets\": 0.64, \"SeaShells\": 1}\n",
    "}\n",
    "\n",
    "# all currencies\n",
    "currencies = [\"Snowballs\", \"Pizzas\", \"Silicon Nuggets\", \"SeaShells\"]"
   ]
  },
  {
   "cell_type": "markdown",
   "id": "e507f54a-3b60-4dc4-850a-edd42b95b6de",
   "metadata": {},
   "source": [
    "# From ChatGPT"
   ]
  },
  {
   "cell_type": "code",
   "execution_count": 6,
   "id": "4c941fe1-8a1f-44c7-9902-6cf216809813",
   "metadata": {},
   "outputs": [
    {
     "name": "stdout",
     "output_type": "stream",
     "text": [
      "max_value: 1.0887 SeaShells\n",
      "best_path: SeaShells ➝ Snowballs ➝ Silicon Nuggets ➝ Pizzas ➝ Snowballs ➝ SeaShells\n"
     ]
    }
   ],
   "source": [
    "# store the best solution\n",
    "max_amount = 0\n",
    "best_path = []\n",
    "\n",
    "# DFS\n",
    "def dfs(current, steps_left, amount, path):\n",
    "    global max_amount, best_path\n",
    "    if steps_left == 0:\n",
    "        if current == \"SeaShells\" and amount > max_amount:\n",
    "            max_amount = amount\n",
    "            best_path = path[:]\n",
    "        return\n",
    "\n",
    "    for next_currency in currencies:\n",
    "        rate = exchange_rate[current][next_currency]\n",
    "        path.append(next_currency)\n",
    "        dfs(next_currency, steps_left - 1, amount * rate, path)\n",
    "        path.pop()\n",
    "\n",
    "# start to find the best\n",
    "dfs(\"SeaShells\", 5, 1.0, [\"SeaShells\"])\n",
    "\n",
    "# output of best\n",
    "print(f\"max_value: {max_amount:.4f} SeaShells\")\n",
    "print(f\"best_path: {' ➝ '.join(best_path)}\")\n"
   ]
  },
  {
   "cell_type": "markdown",
   "id": "1ceb4812-bfc0-4011-bf31-64cd8b04913d",
   "metadata": {},
   "source": [
    "# Simple For Loop"
   ]
  },
  {
   "cell_type": "code",
   "execution_count": 7,
   "id": "48e433e9-b0f4-42f5-80b4-5bf2edebf5dd",
   "metadata": {},
   "outputs": [
    {
     "name": "stdout",
     "output_type": "stream",
     "text": [
      "1.08868032\n",
      "['Snowballs', 'Silicon Nuggets', 'Pizzas', 'Snowballs']\n"
     ]
    }
   ],
   "source": [
    "# set parameters\n",
    "max_value = 1\n",
    "cur_value = 1\n",
    "best_path = []\n",
    "\n",
    "for i in currencies:\n",
    "    for j in currencies:\n",
    "        for k in currencies:\n",
    "            for h in currencies:\n",
    "                cur_value = (\n",
    "                    cur_value \\\n",
    "                    * exchange_rate[\"SeaShells\"][i] \\\n",
    "                    * exchange_rate[i][j] \\\n",
    "                    * exchange_rate[j][k] \\\n",
    "                    * exchange_rate[k][h] \\\n",
    "                    * exchange_rate[h][\"SeaShells\"]\n",
    "                )\n",
    "                if cur_value > max_value:\n",
    "                    max_value = cur_value\n",
    "                    best_path = [i, j, k, h]\n",
    "                cur_value = 1\n",
    "\n",
    "print(max_value)\n",
    "print(best_path)"
   ]
  },
  {
   "cell_type": "code",
   "execution_count": 8,
   "id": "0ca799e3-1586-40f4-b2aa-44960873e065",
   "metadata": {},
   "outputs": [
    {
     "name": "stdout",
     "output_type": "stream",
     "text": [
      "1.0738728\n",
      "['Pizzas', 'Snowballs', 'Silicon Nuggets']\n"
     ]
    }
   ],
   "source": [
    "max_value = 1\n",
    "cur_value = 1\n",
    "best_path = []\n",
    "\n",
    "for i in currencies:\n",
    "    for j in currencies:\n",
    "        for k in currencies:\n",
    "            cur_value = (\n",
    "                cur_value \\\n",
    "                * exchange_rate[\"SeaShells\"][i] \\\n",
    "                * exchange_rate[i][j] \\\n",
    "                * exchange_rate[j][k] \\\n",
    "                * exchange_rate[k][\"SeaShells\"]\n",
    "            )\n",
    "            if cur_value > max_value:\n",
    "                max_value = cur_value\n",
    "                best_path = [i, j, k]\n",
    "            cur_value = 1\n",
    "\n",
    "print(max_value)\n",
    "print(best_path)"
   ]
  },
  {
   "cell_type": "code",
   "execution_count": 9,
   "id": "98b9e4c4-d7a3-4b9f-b28f-92b3121181e7",
   "metadata": {},
   "outputs": [
    {
     "name": "stdout",
     "output_type": "stream",
     "text": [
      "1.038232\n",
      "['Snowballs', 'Silicon Nuggets']\n"
     ]
    }
   ],
   "source": [
    "max_value = 1\n",
    "cur_value = 1\n",
    "best_path = []\n",
    "\n",
    "for i in currencies:\n",
    "    for j in currencies:\n",
    "        cur_value = (\n",
    "            cur_value \\\n",
    "            * exchange_rate[\"SeaShells\"][i] \\\n",
    "            * exchange_rate[i][j] \\\n",
    "            * exchange_rate[j][\"SeaShells\"]\n",
    "        )\n",
    "        if cur_value > max_value:\n",
    "            max_value = cur_value\n",
    "            best_path = [i, j]\n",
    "        cur_value = 1\n",
    "\n",
    "print(max_value)\n",
    "print(best_path)"
   ]
  },
  {
   "cell_type": "code",
   "execution_count": 10,
   "id": "cf4c1728-608a-4848-8dba-eb6887603137",
   "metadata": {},
   "outputs": [
    {
     "name": "stdout",
     "output_type": "stream",
     "text": [
      "1\n",
      "['SeaShells']\n"
     ]
    }
   ],
   "source": [
    "max_value = 1\n",
    "cur_value = 1\n",
    "best_path = []\n",
    "\n",
    "for i in currencies:\n",
    "    cur_value = (\n",
    "        cur_value \\\n",
    "        * exchange_rate[\"SeaShells\"][i] \\\n",
    "        * exchange_rate[i][\"SeaShells\"]\n",
    "    )\n",
    "    if cur_value >= max_value:\n",
    "        max_value = cur_value\n",
    "        best_path = [i]\n",
    "    cur_value = 1\n",
    "\n",
    "print(max_value)\n",
    "print(best_path)"
   ]
  },
  {
   "cell_type": "markdown",
   "id": "97591c1f-df5a-4587-b5b1-7c99b10adea0",
   "metadata": {},
   "source": [
    "# Final Result"
   ]
  },
  {
   "cell_type": "code",
   "execution_count": 48,
   "id": "5c7547d0-98e9-46aa-ba5b-59783d0c275f",
   "metadata": {},
   "outputs": [
    {
     "name": "stdout",
     "output_type": "stream",
     "text": [
      "1.08868032\n",
      "['SeaShells', 'Snowballs', 'Silicon Nuggets', 'Pizzas', 'Snowballs', 'SeaShells']\n"
     ]
    }
   ],
   "source": [
    "max_value = 1\n",
    "best_path = []\n",
    "\n",
    "def search(left, cur_path, cur_value):\n",
    "    global max_value, best_path\n",
    "    # if there is no trade any more\n",
    "    if left == 0:\n",
    "        # if the last node is seashells and best ever, update the max and best\n",
    "        if cur_path[-1] == \"SeaShells\" and cur_value >= max_value:\n",
    "            max_value = cur_value\n",
    "            best_path = cur_path[:]\n",
    "        # as long as there's no trade any more, we shall stop this level and back to the previous\n",
    "        # stop the this level recursion and back to the next\n",
    "        return\n",
    "\n",
    "    # for each next level, we study all currencies\n",
    "    for next_currency in currencies:\n",
    "        rate = exchange_rate[cur_path[-1]][next_currency]\n",
    "        # add the new node and start to search in the recursion\n",
    "        cur_path.append(next_currency)\n",
    "        search(left-1, cur_path, cur_value * rate)\n",
    "        # pop the node and add new node in the next loop\n",
    "        cur_path.pop()\n",
    "\n",
    "search(5, [\"SeaShells\"], 1)\n",
    "\n",
    "print(max_value)\n",
    "print(best_path)\n"
   ]
  },
  {
   "cell_type": "code",
   "execution_count": null,
   "id": "03fa1961-9bf7-42fe-8a48-2d913df5a003",
   "metadata": {},
   "outputs": [],
   "source": [
    "# recursion: \n",
    "# 1. claim global variables\n",
    "# 2. arguments input in the function can be modified\n",
    "# 3. do not change recursion variables (keep all of them unchangeable) and update them in the arguments of the recursive function"
   ]
  },
  {
   "cell_type": "code",
   "execution_count": 52,
   "id": "cc06aa5e-48ec-4f64-9990-482cda2fa4e0",
   "metadata": {},
   "outputs": [
    {
     "name": "stdout",
     "output_type": "stream",
     "text": [
      "1.08868032\n",
      "['SeaShells', 'Snowballs', 'Silicon Nuggets', 'Pizzas', 'Snowballs', 'SeaShells']\n"
     ]
    }
   ],
   "source": [
    "final_max = 0\n",
    "final_path = []\n",
    "\n",
    "for i in (1,2,3,4,5):\n",
    "    max_value = 1\n",
    "    best_path = []\n",
    "\n",
    "    search(i, [\"SeaShells\"], 1)\n",
    "\n",
    "    if max_value >= final_max:\n",
    "        final_max = max_value\n",
    "        final_path = best_path\n",
    "\n",
    "print(final_max)\n",
    "print(final_path)"
   ]
  },
  {
   "cell_type": "code",
   "execution_count": null,
   "id": "93a5a10b-f46b-4904-9d75-9f4cc069287e",
   "metadata": {},
   "outputs": [],
   "source": []
  }
 ],
 "metadata": {
  "kernelspec": {
   "display_name": "Python 3 (ipykernel)",
   "language": "python",
   "name": "python3"
  },
  "language_info": {
   "codemirror_mode": {
    "name": "ipython",
    "version": 3
   },
   "file_extension": ".py",
   "mimetype": "text/x-python",
   "name": "python",
   "nbconvert_exporter": "python",
   "pygments_lexer": "ipython3",
   "version": "3.12.2"
  }
 },
 "nbformat": 4,
 "nbformat_minor": 5
}
